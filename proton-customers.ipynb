{
 "cells": [
  {
   "cell_type": "code",
   "execution_count": 1,
   "metadata": {
    "scrolled": true
   },
   "outputs": [
    {
     "name": "stdout",
     "output_type": "stream",
     "text": [
      "-> picke already exists, much faster using it than opening excel files\n",
      "\n"
     ]
    }
   ],
   "source": [
    "import pandas as pd\n",
    "import os\n",
    "\n",
    "# DATASET FROM: http://archive.ics.uci.edu/ml/datasets/Online+Retail+II\n",
    "\n",
    "# GF TODO: check if excel present, otherwise download it\n",
    "# wget http://archive.ics.uci.edu/ml/machine-learning-databases/00502/online_retail_II.xlsx\n",
    "\n",
    "excel_with_path  = '/eos/user/f/franzoni/SWAN_projects/proton/online_retail_II.xlsx'\n",
    "pickle_with_path = '/eos/user/f/franzoni/SWAN_projects/proton/online_retail_II.pkl'\n",
    "csv_with_path = '/eos/user/f/franzoni/SWAN_projects/proton/online_retail_II.csv'\n",
    "\n",
    "df = None\n",
    "\n",
    "if os.path.isfile(pickle_with_path):\n",
    "    print('-> picke already exists, much faster using it than opening excel files\\n')\n",
    "    df = pd.read_pickle(pickle_with_path)\n",
    "else:\n",
    "    print('-> picke does not exist, go to excel, and create it\\n')\n",
    "    df1 = pd.read_excel (excel_with_path,'Year 2009-2010')\n",
    "    df2 = pd.read_excel (excel_with_path,'Year 2010-2011')\n",
    "    df = pd.concat([df1, df2])\n",
    "    df.to_pickle(pickle_with_path)"
   ]
  },
  {
   "cell_type": "code",
   "execution_count": 2,
   "metadata": {},
   "outputs": [],
   "source": [
    "# define transaction: total cash for a single 'row' of the dataset, i.e. item_price times the number of items bought\n",
    "df['Transaction'] = df.Quantity * df.Price\n",
    "df=df.rename(columns={\"Customer ID\": \"Customer_ID\"})\n",
    "\n",
    "# day, week and time are added for convenience of analysis later on\n",
    "from datetime import datetime\n",
    "df['InvoiceDay'] = df['InvoiceDate'].map(lambda p: p.date())\n",
    "df['InvoiceWeekDay'] = df['InvoiceDate'].map(lambda p: p.weekday())\n",
    "df['InvoiceTime'] = df['InvoiceDate'].map(lambda p: p.time())\n",
    "df['InvoiceWeek'] = df['InvoiceDate'].map(lambda p: p.isocalendar()[1]+52*(p.year-2010))\n",
    "\n",
    "# avoide negative weeks and start counting from the first week of the dataset, which starts from 01/12/2009\n",
    "df['InvoiceWeek'] = df['InvoiceWeek']+3\n",
    "\n",
    "\n",
    "# implement the definition of cancellation in the documentation:\n",
    "# http://archive.ics.uci.edu/ml/datasets/Online+Retail+II\n",
    "#      ==> \"If this code starts with the letter 'c', it indicates a cancellation.\"\"\n",
    "def is_cancellation(s):\n",
    "    if isinstance(s, int):\n",
    "        #print \"ordinary invoice\"\n",
    "        return 0\n",
    "    elif isinstance(s, unicode):\n",
    "        #print \"unicode string\"\n",
    "        #thse are cancellations\n",
    "        if s.rfind('C')!=-1:\n",
    "            return 1\n",
    "        else:\n",
    "            # print \"Something unexpected\"  # found, e.g. A506401\n",
    "            # print s\n",
    "            return 2\n",
    "df['IsCancellation'] = df['Invoice'].map(is_cancellation)     \n",
    "      \n",
    "\n",
    "\n",
    "# items with prices above ~1500 are so few that is worth looking at them in detail, and excluding them from the plots\n",
    "# There'a lot of transactions with price set to 0, which based on the descriptions are \n",
    "max_item_price=1400\n",
    "r             =(0,max_item_price)\n",
    "def is_ordinary_item(p):\n",
    "    if abs(p)>max_item_price or p==0:\n",
    "        return 0\n",
    "    else:\n",
    "        return 1\n",
    "df['IsOrdinaryItem'] = df['Price'].map(is_ordinary_item)        \n",
    "\n",
    "# df.to_csv(csv_with_path, encoding = 'utf-8')"
   ]
  },
  {
   "cell_type": "code",
   "execution_count": 3,
   "metadata": {},
   "outputs": [
    {
     "data": {
      "text/html": [
       "<div>\n",
       "<style scoped>\n",
       "    .dataframe tbody tr th:only-of-type {\n",
       "        vertical-align: middle;\n",
       "    }\n",
       "\n",
       "    .dataframe tbody tr th {\n",
       "        vertical-align: top;\n",
       "    }\n",
       "\n",
       "    .dataframe thead th {\n",
       "        text-align: right;\n",
       "    }\n",
       "</style>\n",
       "<table border=\"1\" class=\"dataframe\">\n",
       "  <thead>\n",
       "    <tr style=\"text-align: right;\">\n",
       "      <th></th>\n",
       "      <th>nulls</th>\n",
       "      <th>rel. nulls [%]</th>\n",
       "    </tr>\n",
       "  </thead>\n",
       "  <tbody>\n",
       "    <tr>\n",
       "      <th>Customer_ID</th>\n",
       "      <td>243007</td>\n",
       "      <td>22.766873</td>\n",
       "    </tr>\n",
       "    <tr>\n",
       "      <th>Description</th>\n",
       "      <td>4382</td>\n",
       "      <td>0.410541</td>\n",
       "    </tr>\n",
       "  </tbody>\n",
       "</table>\n",
       "</div>"
      ],
      "text/plain": [
       "              nulls  rel. nulls [%]\n",
       "Customer_ID  243007       22.766873\n",
       "Description    4382        0.410541"
      ]
     },
     "execution_count": 3,
     "metadata": {},
     "output_type": "execute_result"
    }
   ],
   "source": [
    "# what are the nulls in each feature?\n",
    "nulls = df.isnull().sum()[df.isnull().sum() != 0]\n",
    "\n",
    "# select all transactions containing \n",
    "df_nulls = df[df.isnull().any(axis=1)].copy(deep=True)\n",
    "\n",
    "nulls_rel = nulls/df.shape[0]*100\n",
    "\n",
    "nulls_summary = pd.concat([nulls, nulls_rel], axis=1, keys=['nulls', 'rel. nulls [%]'])\\\n",
    "               .sort_values('nulls', ascending=False)\n",
    "\n",
    "nulls_summary"
   ]
  },
  {
   "cell_type": "markdown",
   "metadata": {},
   "source": [
    "#<a id='the_destination'></a>"
   ]
  },
  {
   "cell_type": "markdown",
   "metadata": {},
   "source": [
    "## todo\n",
    "- nan and empty -> cleanup   # IN THE MAKING -> only consequences on the users study\n",
    "- add colums for data and time, separately ?    # DONE\n",
    "- create a second DF by user: RFM added to\n",
    "\n",
    "\n",
    "## What do I want to extract from this dataset?\n",
    "- https://en.wikipedia.org/wiki/Exploratory_data_analysis\n",
    "\n",
    "- how many customers   DONE, also as a function of country\n",
    "- make a pliot of transaction, of purchase prices, and of invoice_price! #  DONE\n",
    "\n",
    "- VS TIME: trends of spending overall, by country\n",
    "- revenue as a function of date, as a function of the time in the day  # DONE\n",
    "- trends of spending: overall, by the largest customer, by the smaller customers (TOO SPECIFIC?)\n",
    "\n",
    "- NEED TO BUILD A PER CUSTOMER DF\n",
    "- customer: how many transactions, how much total revenue:\n",
    "    => BREAK DOWN BY country, tra\n",
    "- RMF\n",
    "\n",
    "\n",
    "- ==> do this\n",
    "- how many different types of items                  # DONE\n",
    "- what kind of items are bought the most (by NUMBER of by REVENUE), are cancelled the most, \n",
    "- how much revenue per type of item bought\n",
    "\n",
    "- correlation between\n",
    "- cancellations: fraction of cancellation by nunber of transactions and by proportion of renenue\n",
    "-                correlation to CHURNING ? Correlation to country OR type of good purchased ?\n",
    "\n",
    "- cust.groupby('customer_unique_id').size().value_counts() => The majority of customers made only a single purchase. # DONE\n",
    "\n",
    "\n",
    "- Can I cathegorise the purchasable items? => If so, customers split across those cathegories\n",
    "- Persona; how many cheap items, few expensive ones?\n",
    "- https://cxl.com/blog/creating-customer-personas-using-data-driven-research/\n",
    "- now many items are bought per session, how much is spent per session\n",
    "\n",
    "==> TOWARDS CUSTOMER PERSONA DEFINITION\n",
    "- MANY TRANSACTIONS ARE RECORDED AT THE SAME TIME => as if they were a single shopping session, but billed in split goups of goods\n",
    "- the function summary_data_from_transaction_data treats transactions taking place on the same day as A SINGLE ONE!"
   ]
  },
  {
   "cell_type": "markdown",
   "metadata": {},
   "source": [
    "---\n",
    "<a id=\"section_ID_GF\"></a>\n",
    "\n",
    "- this section can be reached at this URL https://swan001.cern.ch/user/franzoni/notebooks/SWAN_projects/proton/proton-EDA.ipynb#section_ID_GF\n",
    "- thanks to this documentation"
   ]
  },
  {
   "cell_type": "markdown",
   "metadata": {},
   "source": [
    "<a id=\"section_customers\"></a>\n",
    "## Customers carachteristics"
   ]
  },
  {
   "cell_type": "markdown",
   "metadata": {},
   "source": [
    "## plan for customers\n",
    "- make a dataframe\n",
    "- add also the RFM variables\n",
    "- add nuber of items bought in total, number of different TYPEs of items\n",
    "- add total value of course\n",
    "- Can I cathegorise the purchasable items? => If so, customers split across those cathegories\n",
    "- Persona; how many cheap items, few expensive ones?\n",
    "- https://cxl.com/blog/creating-customer-personas-using-data-driven-research/\n",
    "\n",
    "- DF to containg:\n",
    "- filter out non standard AND null customers SHALL I REMOVE CANCELLATIONS ????? => yes, keep it basic for now!   DONE\n",
    "- RFM\n",
    "- PER TOTAL:    number of items per customer, number of DIFFERENT/unique items per customer             DONE\n",
    "- PER INVOICE:  same-as-above  - DEFERED\n",
    "- What's the number of orders/invoices per customer? DONE\n",
    "- number of items per purchase, amount per purchase - of each different customer (do I alraedy have this ?)\n",
    "\n",
    "+ RFM ANALYSIS:\n",
    "- ==> add to the dataframe the quantiles of RFM, with the correct ordering/SCORE\n",
    "- https://joaocorreia.io/blog/rfm-analysis-increase-sales-by-segmenting-your-customers.html\n",
    "- https://www.blastanalytics.com/blog/rfm-analysis-boosts-sales\n",
    "\n",
    "+ CLUSTERING\n",
    "- https://en.wikipedia.org/wiki/Determining_the_number_of_clusters_in_a_data_set#The_silhouette_method"
   ]
  },
  {
   "cell_type": "markdown",
   "metadata": {},
   "source": [
    "<a id='the_destination'></a>"
   ]
  },
  {
   "cell_type": "markdown",
   "metadata": {},
   "source": [
    "[Pippo goes to the cinema](section-title)"
   ]
  },
  {
   "cell_type": "markdown",
   "metadata": {},
   "source": [
    "# Cleanup of data for customer analysis\n",
    "- we decide to remove all datata points with no Customer_ID\n",
    "- and to limit the study only to IsOrdinaryItem (as defined above), to avoid skewing the resuts w/ dataa points which are not actual purchases\n",
    "- to keep the modelling basic, for now we decide also to remove all cancellation oders\n",
    "\n"
   ]
  },
  {
   "cell_type": "code",
   "execution_count": 4,
   "metadata": {},
   "outputs": [
    {
     "data": {
      "text/plain": [
       "(1067371, 15)"
      ]
     },
     "execution_count": 4,
     "metadata": {},
     "output_type": "execute_result"
    }
   ],
   "source": [
    "df.shape"
   ]
  },
  {
   "cell_type": "code",
   "execution_count": 5,
   "metadata": {},
   "outputs": [],
   "source": [
    "df=df.dropna()"
   ]
  },
  {
   "cell_type": "code",
   "execution_count": 6,
   "metadata": {},
   "outputs": [
    {
     "data": {
      "text/plain": [
       "(824364, 15)"
      ]
     },
     "execution_count": 6,
     "metadata": {},
     "output_type": "execute_result"
    }
   ],
   "source": [
    "df.shape"
   ]
  },
  {
   "cell_type": "code",
   "execution_count": 7,
   "metadata": {},
   "outputs": [],
   "source": [
    "df= df.loc[ (df.IsCancellation==0) & (df.IsOrdinaryItem==1) ]    "
   ]
  },
  {
   "cell_type": "code",
   "execution_count": 8,
   "metadata": {},
   "outputs": [
    {
     "data": {
      "text/plain": [
       "(805520, 15)"
      ]
     },
     "execution_count": 8,
     "metadata": {},
     "output_type": "execute_result"
    }
   ],
   "source": [
    "df.shape"
   ]
  },
  {
   "cell_type": "code",
   "execution_count": 9,
   "metadata": {},
   "outputs": [],
   "source": [
    "df=df.sort_values(by=['InvoiceDate'],ascending=True)"
   ]
  },
  {
   "cell_type": "markdown",
   "metadata": {},
   "source": [
    "# Basic customer integral features\n",
    "- number of items bought trgought the entire period covered by data, indicating the overall commercial activity of each individual\n",
    "- unique items, indicates the variety of the customers interests\n",
    "- total amount spent by a customer\n",
    "- number of invoices, i.e. how many times a customers surfaced and made an order"
   ]
  },
  {
   "cell_type": "code",
   "execution_count": 10,
   "metadata": {
    "scrolled": true
   },
   "outputs": [
    {
     "data": {
      "text/plain": [
       "<matplotlib.axes._subplots.AxesSubplot at 0x7f853560e990>"
      ]
     },
     "execution_count": 10,
     "metadata": {},
     "output_type": "execute_result"
    }
   ],
   "source": [
    "df_customer_items  = df.groupby('Customer_ID').StockCode.agg([len])     \\\n",
    "                         .rename(columns={\"len\": \"items\"})               \\\n",
    "                         .sort_values(by=['items'],ascending=False)\n",
    "\n",
    "tit='Num items bought by customer'\n",
    "r=(0,3000)\n",
    "df_customer_items.plot(kind='hist',logy=True,title=tit,bins=50,range=r,colormap='Accent',alpha=0.5,figsize=(7,7))"
   ]
  },
  {
   "cell_type": "code",
   "execution_count": 11,
   "metadata": {
    "scrolled": true
   },
   "outputs": [
    {
     "data": {
      "text/plain": [
       "<matplotlib.axes._subplots.AxesSubplot at 0x7f85348e0c50>"
      ]
     },
     "execution_count": 11,
     "metadata": {},
     "output_type": "execute_result"
    },
    {
     "data": {
      "image/png": "[encoded data removed]",
      "text/plain": [
       "<Figure size 504x504 with 1 Axes>"
      ]
     },
     "metadata": {
      "needs_background": "light"
     },
     "output_type": "display_data"
    }
   ],
   "source": [
    "df_customer_uniq_items  = df.groupby('Customer_ID').StockCode.unique().agg([len])     \\\n",
    "                         .rename(columns={\"len\": \"uniq_items\"})               \\\n",
    "                         .sort_values(by=['uniq_items'],ascending=False)\n",
    "\n",
    "tit='Num unique items bought by customer'\n",
    "r=(0,800)\n",
    "df_customer_uniq_items.plot(kind='hist',logy=True,title=tit,bins=50,range=r,colormap='Accent',alpha=0.5,figsize=(7,7))"
   ]
  },
  {
   "cell_type": "code",
   "execution_count": 12,
   "metadata": {},
   "outputs": [
    {
     "data": {
      "text/plain": [
       "<matplotlib.axes._subplots.AxesSubplot at 0x7f853c55c810>"
      ]
     },
     "execution_count": 12,
     "metadata": {},
     "output_type": "execute_result"
    },
    {
     "data": {
      "image/png": "[encoded data removed]",
      "text/plain": [
       "<Figure size 504x504 with 1 Axes>"
      ]
     },
     "metadata": {
      "needs_background": "light"
     },
     "output_type": "display_data"
    }
   ],
   "source": [
    "df_customer_invoices  = df.groupby('Customer_ID').Invoice.unique().agg([len])     \\\n",
    "                         .rename(columns={\"len\": \"invoices\"})               \\\n",
    "                         .sort_values(by=['invoices'],ascending=False)\n",
    "\n",
    "tit='Num invoices per customer'\n",
    "r=(0,200)\n",
    "df_customer_invoices.plot(kind='hist',logy=True,title=tit,bins=50,range=r,colormap='Accent',alpha=0.5,figsize=(7,7))"
   ]
  },
  {
   "cell_type": "code",
   "execution_count": 13,
   "metadata": {},
   "outputs": [
    {
     "data": {
      "text/plain": [
       "<matplotlib.axes._subplots.AxesSubplot at 0x7f85304e2dd0>"
      ]
     },
     "execution_count": 13,
     "metadata": {},
     "output_type": "execute_result"
    },
    {
     "data": {
      "image/png": "[encoded data removed]",
      "text/plain": [
       "<Figure size 504x504 with 1 Axes>"
      ]
     },
     "metadata": {
      "needs_background": "light"
     },
     "output_type": "display_data"
    }
   ],
   "source": [
    "df_customer_spent = df.groupby('Customer_ID').Transaction.agg([sum])     \\\n",
    "                   .rename(columns={\"sum\": \"total_spent\"})               \\\n",
    "                   .sort_values(by=['total_spent'],ascending=False)\n",
    "\n",
    "tit='total amount spent by a customer'\n",
    "r=(0,100000)\n",
    "df_customer_spent.plot(kind='hist',logy=True,title=tit,bins=50,range=r,colormap='Accent',alpha=0.5,figsize=(7,7))"
   ]
  },
  {
   "cell_type": "code",
   "execution_count": 14,
   "metadata": {},
   "outputs": [
    {
     "data": {
      "text/html": [
       "<div>\n",
       "<style scoped>\n",
       "    .dataframe tbody tr th:only-of-type {\n",
       "        vertical-align: middle;\n",
       "    }\n",
       "\n",
       "    .dataframe tbody tr th {\n",
       "        vertical-align: top;\n",
       "    }\n",
       "\n",
       "    .dataframe thead th {\n",
       "        text-align: right;\n",
       "    }\n",
       "</style>\n",
       "<table border=\"1\" class=\"dataframe\">\n",
       "  <thead>\n",
       "    <tr style=\"text-align: right;\">\n",
       "      <th></th>\n",
       "      <th>total_spent</th>\n",
       "    </tr>\n",
       "    <tr>\n",
       "      <th>Customer_ID</th>\n",
       "      <th></th>\n",
       "    </tr>\n",
       "  </thead>\n",
       "  <tbody>\n",
       "    <tr>\n",
       "      <th>12346.0</th>\n",
       "      <td>77556.46</td>\n",
       "    </tr>\n",
       "    <tr>\n",
       "      <th>12347.0</th>\n",
       "      <td>5633.32</td>\n",
       "    </tr>\n",
       "    <tr>\n",
       "      <th>12348.0</th>\n",
       "      <td>2019.40</td>\n",
       "    </tr>\n",
       "    <tr>\n",
       "      <th>12349.0</th>\n",
       "      <td>4428.69</td>\n",
       "    </tr>\n",
       "    <tr>\n",
       "      <th>12350.0</th>\n",
       "      <td>334.40</td>\n",
       "    </tr>\n",
       "  </tbody>\n",
       "</table>\n",
       "</div>"
      ],
      "text/plain": [
       "             total_spent\n",
       "Customer_ID             \n",
       "12346.0         77556.46\n",
       "12347.0          5633.32\n",
       "12348.0          2019.40\n",
       "12349.0          4428.69\n",
       "12350.0           334.40"
      ]
     },
     "execution_count": 14,
     "metadata": {},
     "output_type": "execute_result"
    }
   ],
   "source": [
    "df_customer_spent.sort_values(by=['Customer_ID'],ascending=True).head()"
   ]
  },
  {
   "cell_type": "code",
   "execution_count": 15,
   "metadata": {},
   "outputs": [
    {
     "data": {
      "text/plain": [
       "77556.46"
      ]
     },
     "execution_count": 15,
     "metadata": {},
     "output_type": "execute_result"
    }
   ],
   "source": [
    "df.loc[ (df.Customer_ID==12346) &  (df.Quantity<100000)].Transaction.sum()"
   ]
  },
  {
   "cell_type": "code",
   "execution_count": 16,
   "metadata": {},
   "outputs": [
    {
     "data": {
      "text/html": [
       "<div>\n",
       "<style scoped>\n",
       "    .dataframe tbody tr th:only-of-type {\n",
       "        vertical-align: middle;\n",
       "    }\n",
       "\n",
       "    .dataframe tbody tr th {\n",
       "        vertical-align: top;\n",
       "    }\n",
       "\n",
       "    .dataframe thead th {\n",
       "        text-align: right;\n",
       "    }\n",
       "</style>\n",
       "<table border=\"1\" class=\"dataframe\">\n",
       "  <thead>\n",
       "    <tr style=\"text-align: right;\">\n",
       "      <th></th>\n",
       "      <th>Invoice</th>\n",
       "      <th>StockCode</th>\n",
       "      <th>Description</th>\n",
       "      <th>Quantity</th>\n",
       "      <th>InvoiceDate</th>\n",
       "      <th>Price</th>\n",
       "      <th>Customer_ID</th>\n",
       "      <th>Country</th>\n",
       "      <th>Transaction</th>\n",
       "      <th>InvoiceDay</th>\n",
       "      <th>InvoiceWeekDay</th>\n",
       "      <th>InvoiceTime</th>\n",
       "      <th>InvoiceWeek</th>\n",
       "      <th>IsCancellation</th>\n",
       "      <th>IsOrdinaryItem</th>\n",
       "    </tr>\n",
       "  </thead>\n",
       "  <tbody>\n",
       "    <tr>\n",
       "      <th>27994</th>\n",
       "      <td>491725</td>\n",
       "      <td>TEST001</td>\n",
       "      <td>This is a test product.</td>\n",
       "      <td>10</td>\n",
       "      <td>2009-12-14 08:34:00</td>\n",
       "      <td>4.50</td>\n",
       "      <td>12346.0</td>\n",
       "      <td>United Kingdom</td>\n",
       "      <td>45.00</td>\n",
       "      <td>2009-12-14</td>\n",
       "      <td>0</td>\n",
       "      <td>08:34:00</td>\n",
       "      <td>2</td>\n",
       "      <td>0</td>\n",
       "      <td>1</td>\n",
       "    </tr>\n",
       "    <tr>\n",
       "      <th>28251</th>\n",
       "      <td>491742</td>\n",
       "      <td>TEST001</td>\n",
       "      <td>This is a test product.</td>\n",
       "      <td>5</td>\n",
       "      <td>2009-12-14 11:00:00</td>\n",
       "      <td>4.50</td>\n",
       "      <td>12346.0</td>\n",
       "      <td>United Kingdom</td>\n",
       "      <td>22.50</td>\n",
       "      <td>2009-12-14</td>\n",
       "      <td>0</td>\n",
       "      <td>11:00:00</td>\n",
       "      <td>2</td>\n",
       "      <td>0</td>\n",
       "      <td>1</td>\n",
       "    </tr>\n",
       "    <tr>\n",
       "      <th>28254</th>\n",
       "      <td>491744</td>\n",
       "      <td>TEST001</td>\n",
       "      <td>This is a test product.</td>\n",
       "      <td>5</td>\n",
       "      <td>2009-12-14 11:02:00</td>\n",
       "      <td>4.50</td>\n",
       "      <td>12346.0</td>\n",
       "      <td>United Kingdom</td>\n",
       "      <td>22.50</td>\n",
       "      <td>2009-12-14</td>\n",
       "      <td>0</td>\n",
       "      <td>11:02:00</td>\n",
       "      <td>2</td>\n",
       "      <td>0</td>\n",
       "      <td>1</td>\n",
       "    </tr>\n",
       "    <tr>\n",
       "      <th>39398</th>\n",
       "      <td>492718</td>\n",
       "      <td>TEST001</td>\n",
       "      <td>This is a test product.</td>\n",
       "      <td>5</td>\n",
       "      <td>2009-12-18 10:47:00</td>\n",
       "      <td>4.50</td>\n",
       "      <td>12346.0</td>\n",
       "      <td>United Kingdom</td>\n",
       "      <td>22.50</td>\n",
       "      <td>2009-12-18</td>\n",
       "      <td>4</td>\n",
       "      <td>10:47:00</td>\n",
       "      <td>2</td>\n",
       "      <td>0</td>\n",
       "      <td>1</td>\n",
       "    </tr>\n",
       "    <tr>\n",
       "      <th>39411</th>\n",
       "      <td>492722</td>\n",
       "      <td>TEST002</td>\n",
       "      <td>This is a test product.</td>\n",
       "      <td>1</td>\n",
       "      <td>2009-12-18 10:55:00</td>\n",
       "      <td>1.00</td>\n",
       "      <td>12346.0</td>\n",
       "      <td>United Kingdom</td>\n",
       "      <td>1.00</td>\n",
       "      <td>2009-12-18</td>\n",
       "      <td>4</td>\n",
       "      <td>10:55:00</td>\n",
       "      <td>2</td>\n",
       "      <td>0</td>\n",
       "      <td>1</td>\n",
       "    </tr>\n",
       "    <tr>\n",
       "      <th>45228</th>\n",
       "      <td>493410</td>\n",
       "      <td>TEST001</td>\n",
       "      <td>This is a test product.</td>\n",
       "      <td>5</td>\n",
       "      <td>2010-01-04 09:24:00</td>\n",
       "      <td>4.50</td>\n",
       "      <td>12346.0</td>\n",
       "      <td>United Kingdom</td>\n",
       "      <td>22.50</td>\n",
       "      <td>2010-01-04</td>\n",
       "      <td>0</td>\n",
       "      <td>09:24:00</td>\n",
       "      <td>4</td>\n",
       "      <td>0</td>\n",
       "      <td>1</td>\n",
       "    </tr>\n",
       "    <tr>\n",
       "      <th>45230</th>\n",
       "      <td>493412</td>\n",
       "      <td>TEST001</td>\n",
       "      <td>This is a test product.</td>\n",
       "      <td>5</td>\n",
       "      <td>2010-01-04 09:53:00</td>\n",
       "      <td>4.50</td>\n",
       "      <td>12346.0</td>\n",
       "      <td>United Kingdom</td>\n",
       "      <td>22.50</td>\n",
       "      <td>2010-01-04</td>\n",
       "      <td>0</td>\n",
       "      <td>09:53:00</td>\n",
       "      <td>4</td>\n",
       "      <td>0</td>\n",
       "      <td>1</td>\n",
       "    </tr>\n",
       "    <tr>\n",
       "      <th>56117</th>\n",
       "      <td>494450</td>\n",
       "      <td>TEST001</td>\n",
       "      <td>This is a test product.</td>\n",
       "      <td>5</td>\n",
       "      <td>2010-01-14 13:50:00</td>\n",
       "      <td>4.50</td>\n",
       "      <td>12346.0</td>\n",
       "      <td>United Kingdom</td>\n",
       "      <td>22.50</td>\n",
       "      <td>2010-01-14</td>\n",
       "      <td>3</td>\n",
       "      <td>13:50:00</td>\n",
       "      <td>5</td>\n",
       "      <td>0</td>\n",
       "      <td>1</td>\n",
       "    </tr>\n",
       "    <tr>\n",
       "      <th>66084</th>\n",
       "      <td>495295</td>\n",
       "      <td>TEST001</td>\n",
       "      <td>This is a test product.</td>\n",
       "      <td>5</td>\n",
       "      <td>2010-01-22 13:30:00</td>\n",
       "      <td>4.50</td>\n",
       "      <td>12346.0</td>\n",
       "      <td>United Kingdom</td>\n",
       "      <td>22.50</td>\n",
       "      <td>2010-01-22</td>\n",
       "      <td>4</td>\n",
       "      <td>13:30:00</td>\n",
       "      <td>6</td>\n",
       "      <td>0</td>\n",
       "      <td>1</td>\n",
       "    </tr>\n",
       "    <tr>\n",
       "      <th>107803</th>\n",
       "      <td>499763</td>\n",
       "      <td>15056BL</td>\n",
       "      <td>EDWARDIAN PARASOL BLACK</td>\n",
       "      <td>1</td>\n",
       "      <td>2010-03-02 13:08:00</td>\n",
       "      <td>5.95</td>\n",
       "      <td>12346.0</td>\n",
       "      <td>United Kingdom</td>\n",
       "      <td>5.95</td>\n",
       "      <td>2010-03-02</td>\n",
       "      <td>1</td>\n",
       "      <td>13:08:00</td>\n",
       "      <td>12</td>\n",
       "      <td>0</td>\n",
       "      <td>1</td>\n",
       "    </tr>\n",
       "    <tr>\n",
       "      <th>107802</th>\n",
       "      <td>499763</td>\n",
       "      <td>15056N</td>\n",
       "      <td>EDWARDIAN PARASOL NATURAL</td>\n",
       "      <td>1</td>\n",
       "      <td>2010-03-02 13:08:00</td>\n",
       "      <td>5.95</td>\n",
       "      <td>12346.0</td>\n",
       "      <td>United Kingdom</td>\n",
       "      <td>5.95</td>\n",
       "      <td>2010-03-02</td>\n",
       "      <td>1</td>\n",
       "      <td>13:08:00</td>\n",
       "      <td>12</td>\n",
       "      <td>0</td>\n",
       "      <td>1</td>\n",
       "    </tr>\n",
       "    <tr>\n",
       "      <th>107804</th>\n",
       "      <td>499763</td>\n",
       "      <td>15056P</td>\n",
       "      <td>EDWARDIAN PARASOL PINK</td>\n",
       "      <td>1</td>\n",
       "      <td>2010-03-02 13:08:00</td>\n",
       "      <td>5.95</td>\n",
       "      <td>12346.0</td>\n",
       "      <td>United Kingdom</td>\n",
       "      <td>5.95</td>\n",
       "      <td>2010-03-02</td>\n",
       "      <td>1</td>\n",
       "      <td>13:08:00</td>\n",
       "      <td>12</td>\n",
       "      <td>0</td>\n",
       "      <td>1</td>\n",
       "    </tr>\n",
       "    <tr>\n",
       "      <th>107800</th>\n",
       "      <td>499763</td>\n",
       "      <td>20682</td>\n",
       "      <td>RED SPOTTY CHILDS UMBRELLA</td>\n",
       "      <td>1</td>\n",
       "      <td>2010-03-02 13:08:00</td>\n",
       "      <td>3.25</td>\n",
       "      <td>12346.0</td>\n",
       "      <td>United Kingdom</td>\n",
       "      <td>3.25</td>\n",
       "      <td>2010-03-02</td>\n",
       "      <td>1</td>\n",
       "      <td>13:08:00</td>\n",
       "      <td>12</td>\n",
       "      <td>0</td>\n",
       "      <td>1</td>\n",
       "    </tr>\n",
       "    <tr>\n",
       "      <th>107801</th>\n",
       "      <td>499763</td>\n",
       "      <td>20679</td>\n",
       "      <td>EDWARDIAN PARASOL RED</td>\n",
       "      <td>1</td>\n",
       "      <td>2010-03-02 13:08:00</td>\n",
       "      <td>5.95</td>\n",
       "      <td>12346.0</td>\n",
       "      <td>United Kingdom</td>\n",
       "      <td>5.95</td>\n",
       "      <td>2010-03-02</td>\n",
       "      <td>1</td>\n",
       "      <td>13:08:00</td>\n",
       "      <td>12</td>\n",
       "      <td>0</td>\n",
       "      <td>1</td>\n",
       "    </tr>\n",
       "    <tr>\n",
       "      <th>253042</th>\n",
       "      <td>513774</td>\n",
       "      <td>48188</td>\n",
       "      <td>DOORMAT WELCOME PUPPIES</td>\n",
       "      <td>1</td>\n",
       "      <td>2010-06-28 13:53:00</td>\n",
       "      <td>7.49</td>\n",
       "      <td>12346.0</td>\n",
       "      <td>United Kingdom</td>\n",
       "      <td>7.49</td>\n",
       "      <td>2010-06-28</td>\n",
       "      <td>0</td>\n",
       "      <td>13:53:00</td>\n",
       "      <td>29</td>\n",
       "      <td>0</td>\n",
       "      <td>1</td>\n",
       "    </tr>\n",
       "    <tr>\n",
       "      <th>253043</th>\n",
       "      <td>513774</td>\n",
       "      <td>48187</td>\n",
       "      <td>DOORMAT NEW ENGLAND</td>\n",
       "      <td>1</td>\n",
       "      <td>2010-06-28 13:53:00</td>\n",
       "      <td>7.49</td>\n",
       "      <td>12346.0</td>\n",
       "      <td>United Kingdom</td>\n",
       "      <td>7.49</td>\n",
       "      <td>2010-06-28</td>\n",
       "      <td>0</td>\n",
       "      <td>13:53:00</td>\n",
       "      <td>29</td>\n",
       "      <td>0</td>\n",
       "      <td>1</td>\n",
       "    </tr>\n",
       "    <tr>\n",
       "      <th>253044</th>\n",
       "      <td>513774</td>\n",
       "      <td>22366</td>\n",
       "      <td>DOORMAT AIRMAIL</td>\n",
       "      <td>1</td>\n",
       "      <td>2010-06-28 13:53:00</td>\n",
       "      <td>7.49</td>\n",
       "      <td>12346.0</td>\n",
       "      <td>United Kingdom</td>\n",
       "      <td>7.49</td>\n",
       "      <td>2010-06-28</td>\n",
       "      <td>0</td>\n",
       "      <td>13:53:00</td>\n",
       "      <td>29</td>\n",
       "      <td>0</td>\n",
       "      <td>1</td>\n",
       "    </tr>\n",
       "    <tr>\n",
       "      <th>253045</th>\n",
       "      <td>513774</td>\n",
       "      <td>20685</td>\n",
       "      <td>DOORMAT RED SPOT</td>\n",
       "      <td>1</td>\n",
       "      <td>2010-06-28 13:53:00</td>\n",
       "      <td>7.49</td>\n",
       "      <td>12346.0</td>\n",
       "      <td>United Kingdom</td>\n",
       "      <td>7.49</td>\n",
       "      <td>2010-06-28</td>\n",
       "      <td>0</td>\n",
       "      <td>13:53:00</td>\n",
       "      <td>29</td>\n",
       "      <td>0</td>\n",
       "      <td>1</td>\n",
       "    </tr>\n",
       "    <tr>\n",
       "      <th>253046</th>\n",
       "      <td>513774</td>\n",
       "      <td>21955</td>\n",
       "      <td>DOORMAT UNION JACK GUNS AND ROSES</td>\n",
       "      <td>1</td>\n",
       "      <td>2010-06-28 13:53:00</td>\n",
       "      <td>7.49</td>\n",
       "      <td>12346.0</td>\n",
       "      <td>United Kingdom</td>\n",
       "      <td>7.49</td>\n",
       "      <td>2010-06-28</td>\n",
       "      <td>0</td>\n",
       "      <td>13:53:00</td>\n",
       "      <td>29</td>\n",
       "      <td>0</td>\n",
       "      <td>1</td>\n",
       "    </tr>\n",
       "    <tr>\n",
       "      <th>253041</th>\n",
       "      <td>513774</td>\n",
       "      <td>22688</td>\n",
       "      <td>DOORMAT PEACE ON EARTH BLUE</td>\n",
       "      <td>1</td>\n",
       "      <td>2010-06-28 13:53:00</td>\n",
       "      <td>7.49</td>\n",
       "      <td>12346.0</td>\n",
       "      <td>United Kingdom</td>\n",
       "      <td>7.49</td>\n",
       "      <td>2010-06-28</td>\n",
       "      <td>0</td>\n",
       "      <td>13:53:00</td>\n",
       "      <td>29</td>\n",
       "      <td>0</td>\n",
       "      <td>1</td>\n",
       "    </tr>\n",
       "    <tr>\n",
       "      <th>253040</th>\n",
       "      <td>513774</td>\n",
       "      <td>48185</td>\n",
       "      <td>DOORMAT FAIRY CAKE</td>\n",
       "      <td>1</td>\n",
       "      <td>2010-06-28 13:53:00</td>\n",
       "      <td>7.49</td>\n",
       "      <td>12346.0</td>\n",
       "      <td>United Kingdom</td>\n",
       "      <td>7.49</td>\n",
       "      <td>2010-06-28</td>\n",
       "      <td>0</td>\n",
       "      <td>13:53:00</td>\n",
       "      <td>29</td>\n",
       "      <td>0</td>\n",
       "      <td>1</td>\n",
       "    </tr>\n",
       "    <tr>\n",
       "      <th>253038</th>\n",
       "      <td>513774</td>\n",
       "      <td>22689</td>\n",
       "      <td>DOORMAT MERRY CHRISTMAS RED</td>\n",
       "      <td>1</td>\n",
       "      <td>2010-06-28 13:53:00</td>\n",
       "      <td>7.49</td>\n",
       "      <td>12346.0</td>\n",
       "      <td>United Kingdom</td>\n",
       "      <td>7.49</td>\n",
       "      <td>2010-06-28</td>\n",
       "      <td>0</td>\n",
       "      <td>13:53:00</td>\n",
       "      <td>29</td>\n",
       "      <td>0</td>\n",
       "      <td>1</td>\n",
       "    </tr>\n",
       "    <tr>\n",
       "      <th>253039</th>\n",
       "      <td>513774</td>\n",
       "      <td>22365</td>\n",
       "      <td>DOORMAT RESPECTABLE HOUSE</td>\n",
       "      <td>1</td>\n",
       "      <td>2010-06-28 13:53:00</td>\n",
       "      <td>7.49</td>\n",
       "      <td>12346.0</td>\n",
       "      <td>United Kingdom</td>\n",
       "      <td>7.49</td>\n",
       "      <td>2010-06-28</td>\n",
       "      <td>0</td>\n",
       "      <td>13:53:00</td>\n",
       "      <td>29</td>\n",
       "      <td>0</td>\n",
       "      <td>1</td>\n",
       "    </tr>\n",
       "    <tr>\n",
       "      <th>253028</th>\n",
       "      <td>513774</td>\n",
       "      <td>21524</td>\n",
       "      <td>DOORMAT SPOTTY HOME SWEET HOME</td>\n",
       "      <td>1</td>\n",
       "      <td>2010-06-28 13:53:00</td>\n",
       "      <td>7.49</td>\n",
       "      <td>12346.0</td>\n",
       "      <td>United Kingdom</td>\n",
       "      <td>7.49</td>\n",
       "      <td>2010-06-28</td>\n",
       "      <td>0</td>\n",
       "      <td>13:53:00</td>\n",
       "      <td>29</td>\n",
       "      <td>0</td>\n",
       "      <td>1</td>\n",
       "    </tr>\n",
       "    <tr>\n",
       "      <th>253029</th>\n",
       "      <td>513774</td>\n",
       "      <td>22692</td>\n",
       "      <td>DOORMAT WELCOME TO OUR HOME</td>\n",
       "      <td>1</td>\n",
       "      <td>2010-06-28 13:53:00</td>\n",
       "      <td>7.49</td>\n",
       "      <td>12346.0</td>\n",
       "      <td>United Kingdom</td>\n",
       "      <td>7.49</td>\n",
       "      <td>2010-06-28</td>\n",
       "      <td>0</td>\n",
       "      <td>13:53:00</td>\n",
       "      <td>29</td>\n",
       "      <td>0</td>\n",
       "      <td>1</td>\n",
       "    </tr>\n",
       "    <tr>\n",
       "      <th>253031</th>\n",
       "      <td>513774</td>\n",
       "      <td>22687</td>\n",
       "      <td>DOORMAT CHRISTMAS VILLAGE</td>\n",
       "      <td>1</td>\n",
       "      <td>2010-06-28 13:53:00</td>\n",
       "      <td>7.49</td>\n",
       "      <td>12346.0</td>\n",
       "      <td>United Kingdom</td>\n",
       "      <td>7.49</td>\n",
       "      <td>2010-06-28</td>\n",
       "      <td>0</td>\n",
       "      <td>13:53:00</td>\n",
       "      <td>29</td>\n",
       "      <td>0</td>\n",
       "      <td>1</td>\n",
       "    </tr>\n",
       "    <tr>\n",
       "      <th>253032</th>\n",
       "      <td>513774</td>\n",
       "      <td>48173C</td>\n",
       "      <td>DOORMAT BLACK FLOCK</td>\n",
       "      <td>1</td>\n",
       "      <td>2010-06-28 13:53:00</td>\n",
       "      <td>7.49</td>\n",
       "      <td>12346.0</td>\n",
       "      <td>United Kingdom</td>\n",
       "      <td>7.49</td>\n",
       "      <td>2010-06-28</td>\n",
       "      <td>0</td>\n",
       "      <td>13:53:00</td>\n",
       "      <td>29</td>\n",
       "      <td>0</td>\n",
       "      <td>1</td>\n",
       "    </tr>\n",
       "    <tr>\n",
       "      <th>253030</th>\n",
       "      <td>513774</td>\n",
       "      <td>22660</td>\n",
       "      <td>DOORMAT I LOVE LONDON</td>\n",
       "      <td>1</td>\n",
       "      <td>2010-06-28 13:53:00</td>\n",
       "      <td>7.49</td>\n",
       "      <td>12346.0</td>\n",
       "      <td>United Kingdom</td>\n",
       "      <td>7.49</td>\n",
       "      <td>2010-06-28</td>\n",
       "      <td>0</td>\n",
       "      <td>13:53:00</td>\n",
       "      <td>29</td>\n",
       "      <td>0</td>\n",
       "      <td>1</td>\n",
       "    </tr>\n",
       "    <tr>\n",
       "      <th>253033</th>\n",
       "      <td>513774</td>\n",
       "      <td>22691</td>\n",
       "      <td>DOORMAT WELCOME SUNRISE</td>\n",
       "      <td>1</td>\n",
       "      <td>2010-06-28 13:53:00</td>\n",
       "      <td>7.49</td>\n",
       "      <td>12346.0</td>\n",
       "      <td>United Kingdom</td>\n",
       "      <td>7.49</td>\n",
       "      <td>2010-06-28</td>\n",
       "      <td>0</td>\n",
       "      <td>13:53:00</td>\n",
       "      <td>29</td>\n",
       "      <td>0</td>\n",
       "      <td>1</td>\n",
       "    </tr>\n",
       "    <tr>\n",
       "      <th>253034</th>\n",
       "      <td>513774</td>\n",
       "      <td>48111</td>\n",
       "      <td>DOORMAT 3 SMILEY CATS</td>\n",
       "      <td>1</td>\n",
       "      <td>2010-06-28 13:53:00</td>\n",
       "      <td>7.49</td>\n",
       "      <td>12346.0</td>\n",
       "      <td>United Kingdom</td>\n",
       "      <td>7.49</td>\n",
       "      <td>2010-06-28</td>\n",
       "      <td>0</td>\n",
       "      <td>13:53:00</td>\n",
       "      <td>29</td>\n",
       "      <td>0</td>\n",
       "      <td>1</td>\n",
       "    </tr>\n",
       "    <tr>\n",
       "      <th>253035</th>\n",
       "      <td>513774</td>\n",
       "      <td>22690</td>\n",
       "      <td>DOORMAT HOME SWEET HOME BLUE</td>\n",
       "      <td>1</td>\n",
       "      <td>2010-06-28 13:53:00</td>\n",
       "      <td>7.49</td>\n",
       "      <td>12346.0</td>\n",
       "      <td>United Kingdom</td>\n",
       "      <td>7.49</td>\n",
       "      <td>2010-06-28</td>\n",
       "      <td>0</td>\n",
       "      <td>13:53:00</td>\n",
       "      <td>29</td>\n",
       "      <td>0</td>\n",
       "      <td>1</td>\n",
       "    </tr>\n",
       "    <tr>\n",
       "      <th>253036</th>\n",
       "      <td>513774</td>\n",
       "      <td>21523</td>\n",
       "      <td>DOORMAT FANCY FONT HOME SWEET HOME</td>\n",
       "      <td>1</td>\n",
       "      <td>2010-06-28 13:53:00</td>\n",
       "      <td>7.49</td>\n",
       "      <td>12346.0</td>\n",
       "      <td>United Kingdom</td>\n",
       "      <td>7.49</td>\n",
       "      <td>2010-06-28</td>\n",
       "      <td>0</td>\n",
       "      <td>13:53:00</td>\n",
       "      <td>29</td>\n",
       "      <td>0</td>\n",
       "      <td>1</td>\n",
       "    </tr>\n",
       "    <tr>\n",
       "      <th>253037</th>\n",
       "      <td>513774</td>\n",
       "      <td>48138</td>\n",
       "      <td>DOORMAT UNION FLAG</td>\n",
       "      <td>1</td>\n",
       "      <td>2010-06-28 13:53:00</td>\n",
       "      <td>7.49</td>\n",
       "      <td>12346.0</td>\n",
       "      <td>United Kingdom</td>\n",
       "      <td>7.49</td>\n",
       "      <td>2010-06-28</td>\n",
       "      <td>0</td>\n",
       "      <td>13:53:00</td>\n",
       "      <td>29</td>\n",
       "      <td>0</td>\n",
       "      <td>1</td>\n",
       "    </tr>\n",
       "    <tr>\n",
       "      <th>61619</th>\n",
       "      <td>541431</td>\n",
       "      <td>23166</td>\n",
       "      <td>MEDIUM CERAMIC TOP STORAGE JAR</td>\n",
       "      <td>74215</td>\n",
       "      <td>2011-01-18 10:01:00</td>\n",
       "      <td>1.04</td>\n",
       "      <td>12346.0</td>\n",
       "      <td>United Kingdom</td>\n",
       "      <td>77183.60</td>\n",
       "      <td>2011-01-18</td>\n",
       "      <td>1</td>\n",
       "      <td>10:01:00</td>\n",
       "      <td>58</td>\n",
       "      <td>0</td>\n",
       "      <td>1</td>\n",
       "    </tr>\n",
       "  </tbody>\n",
       "</table>\n",
       "</div>"
      ],
      "text/plain": [
       "       Invoice StockCode                         Description  Quantity  \\\n",
       "27994   491725   TEST001             This is a test product.        10   \n",
       "28251   491742   TEST001             This is a test product.         5   \n",
       "28254   491744   TEST001             This is a test product.         5   \n",
       "39398   492718   TEST001             This is a test product.         5   \n",
       "39411   492722   TEST002             This is a test product.         1   \n",
       "45228   493410   TEST001             This is a test product.         5   \n",
       "45230   493412   TEST001             This is a test product.         5   \n",
       "56117   494450   TEST001             This is a test product.         5   \n",
       "66084   495295   TEST001             This is a test product.         5   \n",
       "107803  499763   15056BL             EDWARDIAN PARASOL BLACK         1   \n",
       "107802  499763    15056N           EDWARDIAN PARASOL NATURAL         1   \n",
       "107804  499763    15056P              EDWARDIAN PARASOL PINK         1   \n",
       "107800  499763     20682          RED SPOTTY CHILDS UMBRELLA         1   \n",
       "107801  499763     20679               EDWARDIAN PARASOL RED         1   \n",
       "253042  513774     48188             DOORMAT WELCOME PUPPIES         1   \n",
       "253043  513774     48187                 DOORMAT NEW ENGLAND         1   \n",
       "253044  513774     22366                    DOORMAT AIRMAIL          1   \n",
       "253045  513774     20685                    DOORMAT RED SPOT         1   \n",
       "253046  513774     21955   DOORMAT UNION JACK GUNS AND ROSES         1   \n",
       "253041  513774     22688         DOORMAT PEACE ON EARTH BLUE         1   \n",
       "253040  513774     48185                  DOORMAT FAIRY CAKE         1   \n",
       "253038  513774     22689        DOORMAT MERRY CHRISTMAS RED          1   \n",
       "253039  513774     22365           DOORMAT RESPECTABLE HOUSE         1   \n",
       "253028  513774     21524      DOORMAT SPOTTY HOME SWEET HOME         1   \n",
       "253029  513774     22692         DOORMAT WELCOME TO OUR HOME         1   \n",
       "253031  513774     22687           DOORMAT CHRISTMAS VILLAGE         1   \n",
       "253032  513774    48173C                DOORMAT BLACK FLOCK          1   \n",
       "253030  513774     22660               DOORMAT I LOVE LONDON         1   \n",
       "253033  513774     22691             DOORMAT WELCOME SUNRISE         1   \n",
       "253034  513774     48111               DOORMAT 3 SMILEY CATS         1   \n",
       "253035  513774     22690       DOORMAT HOME SWEET HOME BLUE          1   \n",
       "253036  513774     21523  DOORMAT FANCY FONT HOME SWEET HOME         1   \n",
       "253037  513774     48138                  DOORMAT UNION FLAG         1   \n",
       "61619   541431     23166      MEDIUM CERAMIC TOP STORAGE JAR     74215   \n",
       "\n",
       "               InvoiceDate  Price  Customer_ID         Country  Transaction  \\\n",
       "27994  2009-12-14 08:34:00   4.50      12346.0  United Kingdom        45.00   \n",
       "28251  2009-12-14 11:00:00   4.50      12346.0  United Kingdom        22.50   \n",
       "28254  2009-12-14 11:02:00   4.50      12346.0  United Kingdom        22.50   \n",
       "39398  2009-12-18 10:47:00   4.50      12346.0  United Kingdom        22.50   \n",
       "39411  2009-12-18 10:55:00   1.00      12346.0  United Kingdom         1.00   \n",
       "45228  2010-01-04 09:24:00   4.50      12346.0  United Kingdom        22.50   \n",
       "45230  2010-01-04 09:53:00   4.50      12346.0  United Kingdom        22.50   \n",
       "56117  2010-01-14 13:50:00   4.50      12346.0  United Kingdom        22.50   \n",
       "66084  2010-01-22 13:30:00   4.50      12346.0  United Kingdom        22.50   \n",
       "107803 2010-03-02 13:08:00   5.95      12346.0  United Kingdom         5.95   \n",
       "107802 2010-03-02 13:08:00   5.95      12346.0  United Kingdom         5.95   \n",
       "107804 2010-03-02 13:08:00   5.95      12346.0  United Kingdom         5.95   \n",
       "107800 2010-03-02 13:08:00   3.25      12346.0  United Kingdom         3.25   \n",
       "107801 2010-03-02 13:08:00   5.95      12346.0  United Kingdom         5.95   \n",
       "253042 2010-06-28 13:53:00   7.49      12346.0  United Kingdom         7.49   \n",
       "253043 2010-06-28 13:53:00   7.49      12346.0  United Kingdom         7.49   \n",
       "253044 2010-06-28 13:53:00   7.49      12346.0  United Kingdom         7.49   \n",
       "253045 2010-06-28 13:53:00   7.49      12346.0  United Kingdom         7.49   \n",
       "253046 2010-06-28 13:53:00   7.49      12346.0  United Kingdom         7.49   \n",
       "253041 2010-06-28 13:53:00   7.49      12346.0  United Kingdom         7.49   \n",
       "253040 2010-06-28 13:53:00   7.49      12346.0  United Kingdom         7.49   \n",
       "253038 2010-06-28 13:53:00   7.49      12346.0  United Kingdom         7.49   \n",
       "253039 2010-06-28 13:53:00   7.49      12346.0  United Kingdom         7.49   \n",
       "253028 2010-06-28 13:53:00   7.49      12346.0  United Kingdom         7.49   \n",
       "253029 2010-06-28 13:53:00   7.49      12346.0  United Kingdom         7.49   \n",
       "253031 2010-06-28 13:53:00   7.49      12346.0  United Kingdom         7.49   \n",
       "253032 2010-06-28 13:53:00   7.49      12346.0  United Kingdom         7.49   \n",
       "253030 2010-06-28 13:53:00   7.49      12346.0  United Kingdom         7.49   \n",
       "253033 2010-06-28 13:53:00   7.49      12346.0  United Kingdom         7.49   \n",
       "253034 2010-06-28 13:53:00   7.49      12346.0  United Kingdom         7.49   \n",
       "253035 2010-06-28 13:53:00   7.49      12346.0  United Kingdom         7.49   \n",
       "253036 2010-06-28 13:53:00   7.49      12346.0  United Kingdom         7.49   \n",
       "253037 2010-06-28 13:53:00   7.49      12346.0  United Kingdom         7.49   \n",
       "61619  2011-01-18 10:01:00   1.04      12346.0  United Kingdom     77183.60   \n",
       "\n",
       "        InvoiceDay  InvoiceWeekDay InvoiceTime  InvoiceWeek  IsCancellation  \\\n",
       "27994   2009-12-14               0    08:34:00            2               0   \n",
       "28251   2009-12-14               0    11:00:00            2               0   \n",
       "28254   2009-12-14               0    11:02:00            2               0   \n",
       "39398   2009-12-18               4    10:47:00            2               0   \n",
       "39411   2009-12-18               4    10:55:00            2               0   \n",
       "45228   2010-01-04               0    09:24:00            4               0   \n",
       "45230   2010-01-04               0    09:53:00            4               0   \n",
       "56117   2010-01-14               3    13:50:00            5               0   \n",
       "66084   2010-01-22               4    13:30:00            6               0   \n",
       "107803  2010-03-02               1    13:08:00           12               0   \n",
       "107802  2010-03-02               1    13:08:00           12               0   \n",
       "107804  2010-03-02               1    13:08:00           12               0   \n",
       "107800  2010-03-02               1    13:08:00           12               0   \n",
       "107801  2010-03-02               1    13:08:00           12               0   \n",
       "253042  2010-06-28               0    13:53:00           29               0   \n",
       "253043  2010-06-28               0    13:53:00           29               0   \n",
       "253044  2010-06-28               0    13:53:00           29               0   \n",
       "253045  2010-06-28               0    13:53:00           29               0   \n",
       "253046  2010-06-28               0    13:53:00           29               0   \n",
       "253041  2010-06-28               0    13:53:00           29               0   \n",
       "253040  2010-06-28               0    13:53:00           29               0   \n",
       "253038  2010-06-28               0    13:53:00           29               0   \n",
       "253039  2010-06-28               0    13:53:00           29               0   \n",
       "253028  2010-06-28               0    13:53:00           29               0   \n",
       "253029  2010-06-28               0    13:53:00           29               0   \n",
       "253031  2010-06-28               0    13:53:00           29               0   \n",
       "253032  2010-06-28               0    13:53:00           29               0   \n",
       "253030  2010-06-28               0    13:53:00           29               0   \n",
       "253033  2010-06-28               0    13:53:00           29               0   \n",
       "253034  2010-06-28               0    13:53:00           29               0   \n",
       "253035  2010-06-28               0    13:53:00           29               0   \n",
       "253036  2010-06-28               0    13:53:00           29               0   \n",
       "253037  2010-06-28               0    13:53:00           29               0   \n",
       "61619   2011-01-18               1    10:01:00           58               0   \n",
       "\n",
       "        IsOrdinaryItem  \n",
       "27994                1  \n",
       "28251                1  \n",
       "28254                1  \n",
       "39398                1  \n",
       "39411                1  \n",
       "45228                1  \n",
       "45230                1  \n",
       "56117                1  \n",
       "66084                1  \n",
       "107803               1  \n",
       "107802               1  \n",
       "107804               1  \n",
       "107800               1  \n",
       "107801               1  \n",
       "253042               1  \n",
       "253043               1  \n",
       "253044               1  \n",
       "253045               1  \n",
       "253046               1  \n",
       "253041               1  \n",
       "253040               1  \n",
       "253038               1  \n",
       "253039               1  \n",
       "253028               1  \n",
       "253029               1  \n",
       "253031               1  \n",
       "253032               1  \n",
       "253030               1  \n",
       "253033               1  \n",
       "253034               1  \n",
       "253035               1  \n",
       "253036               1  \n",
       "253037               1  \n",
       "61619                1  "
      ]
     },
     "execution_count": 16,
     "metadata": {},
     "output_type": "execute_result"
    }
   ],
   "source": [
    "df.loc[ (df.Customer_ID==12346)]"
   ]
  },
  {
   "cell_type": "code",
   "execution_count": 17,
   "metadata": {},
   "outputs": [
    {
     "data": {
      "text/plain": [
       "(8,)"
      ]
     },
     "execution_count": 17,
     "metadata": {},
     "output_type": "execute_result"
    }
   ],
   "source": [
    "df.loc[ (df.Customer_ID==12346)].InvoiceDay.unique().shape\n",
    "# verification of 'fequency' being equal to 7 for 12346\n",
    "# remiminder: the RFM variables exclude the first invoice"
   ]
  },
  {
   "cell_type": "markdown",
   "metadata": {},
   "source": [
    "# Historic customer  features\n",
    "- **Recency**: How recently a customer has made a purchase\n",
    "- **Frequency**: How often a customer makes a purchase\n",
    "- **Monetary Value**: Average expenditure for an invoice\n",
    "\n",
    "- note: RFM variables exlcude the first invoice for all customers. Only returning invoices are considered\n",
    "- note2: values=0 are for customers that don't return => select those customers away to consider"
   ]
  },
  {
   "cell_type": "code",
   "execution_count": 18,
   "metadata": {},
   "outputs": [],
   "source": [
    "data_star='2009-12-01'\n",
    "calib_end='2011-05-31'\n",
    "obser_end='2011-12-09'\n",
    "\n",
    "from datetime import date\n",
    "d_data_star=date( * map(lambda u:int(u), data_star.split('-') ) )\n",
    "d_calib_end=date( * map(lambda u:int(u), calib_end.split('-') ) )\n",
    "d_obser_end=date( * map(lambda u:int(u), obser_end.split('-') ) )\n",
    "\n",
    "from lifetimes.utils import *\n",
    "\n",
    "#    This transforms a DataFrame of transaction data of the form:\n",
    "#        customer_id, datetime [, monetary_value]\n",
    "#    to a DataFrame of the form:\n",
    "#        customer_id, frequency, recency, T [, monetary_value]\n",
    "\n",
    "df_customer_RFM = summary_data_from_transaction_data(df.sort_values(by=['InvoiceDate'],ascending=True)\n",
    "                                                     ,'Customer_ID','InvoiceDate'\n",
    "                                                     ,monetary_value_col='Transaction'\n",
    "                                                     ,freq='D'\n",
    "                                                     #,observation_period_end=obser_end\n",
    "                                                    )"
   ]
  },
  {
   "cell_type": "code",
   "execution_count": 19,
   "metadata": {},
   "outputs": [
    {
     "data": {
      "text/html": [
       "<div>\n",
       "<style scoped>\n",
       "    .dataframe tbody tr th:only-of-type {\n",
       "        vertical-align: middle;\n",
       "    }\n",
       "\n",
       "    .dataframe tbody tr th {\n",
       "        vertical-align: top;\n",
       "    }\n",
       "\n",
       "    .dataframe thead th {\n",
       "        text-align: right;\n",
       "    }\n",
       "</style>\n",
       "<table border=\"1\" class=\"dataframe\">\n",
       "  <thead>\n",
       "    <tr style=\"text-align: right;\">\n",
       "      <th></th>\n",
       "      <th>frequency</th>\n",
       "      <th>recency</th>\n",
       "      <th>T</th>\n",
       "      <th>monetary_value</th>\n",
       "    </tr>\n",
       "    <tr>\n",
       "      <th>Customer_ID</th>\n",
       "      <th></th>\n",
       "      <th></th>\n",
       "      <th></th>\n",
       "      <th></th>\n",
       "    </tr>\n",
       "  </thead>\n",
       "  <tbody>\n",
       "    <tr>\n",
       "      <th>12346.0</th>\n",
       "      <td>7.0</td>\n",
       "      <td>400.0</td>\n",
       "      <td>725.0</td>\n",
       "      <td>11066.637143</td>\n",
       "    </tr>\n",
       "    <tr>\n",
       "      <th>12347.0</th>\n",
       "      <td>7.0</td>\n",
       "      <td>402.0</td>\n",
       "      <td>404.0</td>\n",
       "      <td>717.398571</td>\n",
       "    </tr>\n",
       "    <tr>\n",
       "      <th>12348.0</th>\n",
       "      <td>4.0</td>\n",
       "      <td>363.0</td>\n",
       "      <td>438.0</td>\n",
       "      <td>449.310000</td>\n",
       "    </tr>\n",
       "    <tr>\n",
       "      <th>12349.0</th>\n",
       "      <td>3.0</td>\n",
       "      <td>571.0</td>\n",
       "      <td>589.0</td>\n",
       "      <td>1120.056667</td>\n",
       "    </tr>\n",
       "    <tr>\n",
       "      <th>12350.0</th>\n",
       "      <td>0.0</td>\n",
       "      <td>0.0</td>\n",
       "      <td>310.0</td>\n",
       "      <td>0.000000</td>\n",
       "    </tr>\n",
       "  </tbody>\n",
       "</table>\n",
       "</div>"
      ],
      "text/plain": [
       "             frequency  recency      T  monetary_value\n",
       "Customer_ID                                           \n",
       "12346.0            7.0    400.0  725.0    11066.637143\n",
       "12347.0            7.0    402.0  404.0      717.398571\n",
       "12348.0            4.0    363.0  438.0      449.310000\n",
       "12349.0            3.0    571.0  589.0     1120.056667\n",
       "12350.0            0.0      0.0  310.0        0.000000"
      ]
     },
     "execution_count": 19,
     "metadata": {},
     "output_type": "execute_result"
    }
   ],
   "source": [
    "df_customer_RFM.head()"
   ]
  },
  {
   "cell_type": "code",
   "execution_count": 20,
   "metadata": {},
   "outputs": [
    {
     "data": {
      "text/plain": [
       "<matplotlib.axes._subplots.AxesSubplot at 0x7f84d2974450>"
      ]
     },
     "execution_count": 20,
     "metadata": {},
     "output_type": "execute_result"
    },
    {
     "data": {
      "image/png": "[encoded data removed]",
      "text/plain": [
       "<Figure size 504x504 with 1 Axes>"
      ]
     },
     "metadata": {
      "needs_background": "light"
     },
     "output_type": "display_data"
    }
   ],
   "source": [
    "tit='(Monetary Value) Average expenditure for an invoice'\n",
    "r=(0,4000)\n",
    "df_customer_RFM['monetary_value'].loc[df_customer_RFM['monetary_value']>0]  \\\n",
    "                                 .plot(kind='hist',logy=True,title=tit,bins=50,range=r,colormap='Accent',alpha=0.5,figsize=(7,7))"
   ]
  },
  {
   "cell_type": "code",
   "execution_count": 21,
   "metadata": {},
   "outputs": [
    {
     "data": {
      "text/plain": [
       "<matplotlib.axes._subplots.AxesSubplot at 0x7f84d4de19d0>"
      ]
     },
     "execution_count": 21,
     "metadata": {},
     "output_type": "execute_result"
    },
    {
     "data": {
      "image/png": "[encoded data removed]",
      "text/plain": [
       "<Figure size 504x504 with 1 Axes>"
      ]
     },
     "metadata": {
      "needs_background": "light"
     },
     "output_type": "display_data"
    }
   ],
   "source": [
    "tit='Recency (How recently a customer has made last purchase)'\n",
    "r=(0,800)\n",
    "df_customer_RFM['recency'].loc[df_customer_RFM['recency']>0] \\\n",
    "     .plot(kind='hist',logy=True,title=tit,bins=50,range=r,colormap='Accent',alpha=0.5,figsize=(7,7))"
   ]
  },
  {
   "cell_type": "code",
   "execution_count": 22,
   "metadata": {},
   "outputs": [
    {
     "data": {
      "text/plain": [
       "<matplotlib.axes._subplots.AxesSubplot at 0x7f84d4c1da50>"
      ]
     },
     "execution_count": 22,
     "metadata": {},
     "output_type": "execute_result"
    },
    {
     "data": {
      "image/png": "[encoded data removed]",
      "text/plain": [
       "<Figure size 504x504 with 1 Axes>"
      ]
     },
     "metadata": {
      "needs_background": "light"
     },
     "output_type": "display_data"
    }
   ],
   "source": [
    "tit='Frequency (how many times a customer has come back)'\n",
    "r=(0,200)\n",
    "df_customer_RFM['frequency'].loc[df_customer_RFM['frequency']>0] \\\n",
    "           .plot(kind='hist',logy=True,title=tit,bins=50,range=r,colormap='Accent',alpha=0.5,figsize=(7,7))"
   ]
  },
  {
   "cell_type": "code",
   "execution_count": 23,
   "metadata": {},
   "outputs": [
    {
     "data": {
      "text/html": [
       "<div>\n",
       "<style scoped>\n",
       "    .dataframe tbody tr th:only-of-type {\n",
       "        vertical-align: middle;\n",
       "    }\n",
       "\n",
       "    .dataframe tbody tr th {\n",
       "        vertical-align: top;\n",
       "    }\n",
       "\n",
       "    .dataframe thead th {\n",
       "        text-align: right;\n",
       "    }\n",
       "</style>\n",
       "<table border=\"1\" class=\"dataframe\">\n",
       "  <thead>\n",
       "    <tr style=\"text-align: right;\">\n",
       "      <th></th>\n",
       "      <th>items</th>\n",
       "      <th>invoices</th>\n",
       "      <th>total_spent</th>\n",
       "      <th>frequency</th>\n",
       "      <th>recency</th>\n",
       "      <th>T</th>\n",
       "      <th>monetary_value</th>\n",
       "    </tr>\n",
       "    <tr>\n",
       "      <th>Customer_ID</th>\n",
       "      <th></th>\n",
       "      <th></th>\n",
       "      <th></th>\n",
       "      <th></th>\n",
       "      <th></th>\n",
       "      <th></th>\n",
       "      <th></th>\n",
       "    </tr>\n",
       "  </thead>\n",
       "  <tbody>\n",
       "    <tr>\n",
       "      <th>18102.0</th>\n",
       "      <td>1058</td>\n",
       "      <td>145</td>\n",
       "      <td>608821.65</td>\n",
       "      <td>66.0</td>\n",
       "      <td>738.0</td>\n",
       "      <td>738.0</td>\n",
       "      <td>9189.930455</td>\n",
       "    </tr>\n",
       "    <tr>\n",
       "      <th>14646.0</th>\n",
       "      <td>3849</td>\n",
       "      <td>151</td>\n",
       "      <td>528602.52</td>\n",
       "      <td>90.0</td>\n",
       "      <td>736.0</td>\n",
       "      <td>737.0</td>\n",
       "      <td>5809.905333</td>\n",
       "    </tr>\n",
       "    <tr>\n",
       "      <th>14156.0</th>\n",
       "      <td>4046</td>\n",
       "      <td>154</td>\n",
       "      <td>308664.36</td>\n",
       "      <td>119.0</td>\n",
       "      <td>729.0</td>\n",
       "      <td>738.0</td>\n",
       "      <td>2584.853445</td>\n",
       "    </tr>\n",
       "    <tr>\n",
       "      <th>14911.0</th>\n",
       "      <td>11243</td>\n",
       "      <td>396</td>\n",
       "      <td>292598.29</td>\n",
       "      <td>253.0</td>\n",
       "      <td>737.0</td>\n",
       "      <td>738.0</td>\n",
       "      <td>1153.615257</td>\n",
       "    </tr>\n",
       "    <tr>\n",
       "      <th>17450.0</th>\n",
       "      <td>424</td>\n",
       "      <td>51</td>\n",
       "      <td>246973.09</td>\n",
       "      <td>30.0</td>\n",
       "      <td>430.0</td>\n",
       "      <td>438.0</td>\n",
       "      <td>6924.523000</td>\n",
       "    </tr>\n",
       "  </tbody>\n",
       "</table>\n",
       "</div>"
      ],
      "text/plain": [
       "             items  invoices  total_spent  frequency  recency      T  \\\n",
       "Customer_ID                                                            \n",
       "18102.0       1058       145    608821.65       66.0    738.0  738.0   \n",
       "14646.0       3849       151    528602.52       90.0    736.0  737.0   \n",
       "14156.0       4046       154    308664.36      119.0    729.0  738.0   \n",
       "14911.0      11243       396    292598.29      253.0    737.0  738.0   \n",
       "17450.0        424        51    246973.09       30.0    430.0  438.0   \n",
       "\n",
       "             monetary_value  \n",
       "Customer_ID                  \n",
       "18102.0         9189.930455  \n",
       "14646.0         5809.905333  \n",
       "14156.0         2584.853445  \n",
       "14911.0         1153.615257  \n",
       "17450.0         6924.523000  "
      ]
     },
     "execution_count": 23,
     "metadata": {},
     "output_type": "execute_result"
    }
   ],
   "source": [
    "df_customer = df_customer_items     \\\n",
    "                .join(df_customer_invoices)    \\\n",
    "                .join(df_customer_spent)   \\\n",
    "                .join(df_customer_RFM)   \\\n",
    "            .sort_values(by=['total_spent'],ascending=False)\n",
    "\n",
    "df_customer.shape\n",
    "df_customer.head()"
   ]
  },
  {
   "cell_type": "code",
   "execution_count": 24,
   "metadata": {},
   "outputs": [
    {
     "data": {
      "text/plain": [
       "(5875, 7)"
      ]
     },
     "execution_count": 24,
     "metadata": {},
     "output_type": "execute_result"
    }
   ],
   "source": [
    "df_customer.shape"
   ]
  },
  {
   "cell_type": "code",
   "execution_count": 25,
   "metadata": {},
   "outputs": [],
   "source": [
    "df_customer = df_customer.loc[df_customer['frequency']>0]   \\\n",
    "                    .loc[df_customer['recency']>0]          \\\n",
    "                    .loc[df_customer['frequency']>0]        \\\n"
   ]
  },
  {
   "cell_type": "code",
   "execution_count": 26,
   "metadata": {},
   "outputs": [
    {
     "data": {
      "text/plain": [
       "(4188, 7)"
      ]
     },
     "execution_count": 26,
     "metadata": {},
     "output_type": "execute_result"
    }
   ],
   "source": [
    "df_customer.shape"
   ]
  },
  {
   "cell_type": "code",
   "execution_count": 27,
   "metadata": {},
   "outputs": [],
   "source": [
    "# cut_out=0.02\n",
    "# q_low = df_customer[\"monetary_value\"].quantile(cut_out)\n",
    "# q_hi  = df_customer[\"monetary_value\"].quantile(1-cut_out)\n",
    "# df_customer = df_customer[(df_customer[\"monetary_value\"] < q_hi) & (df_customer[\"monetary_value\"] > q_low)]\n",
    "# df_customer.shape"
   ]
  },
  {
   "cell_type": "code",
   "execution_count": 28,
   "metadata": {},
   "outputs": [
    {
     "data": {
      "text/html": [
       "<div>\n",
       "<style scoped>\n",
       "    .dataframe tbody tr th:only-of-type {\n",
       "        vertical-align: middle;\n",
       "    }\n",
       "\n",
       "    .dataframe tbody tr th {\n",
       "        vertical-align: top;\n",
       "    }\n",
       "\n",
       "    .dataframe thead th {\n",
       "        text-align: right;\n",
       "    }\n",
       "</style>\n",
       "<table border=\"1\" class=\"dataframe\">\n",
       "  <thead>\n",
       "    <tr style=\"text-align: right;\">\n",
       "      <th></th>\n",
       "      <th>items</th>\n",
       "      <th>invoices</th>\n",
       "      <th>total_spent</th>\n",
       "      <th>frequency</th>\n",
       "      <th>recency</th>\n",
       "      <th>T</th>\n",
       "      <th>monetary_value</th>\n",
       "    </tr>\n",
       "  </thead>\n",
       "  <tbody>\n",
       "    <tr>\n",
       "      <th>items</th>\n",
       "      <td>1.000000</td>\n",
       "      <td>0.798900</td>\n",
       "      <td>0.460331</td>\n",
       "      <td>0.801204</td>\n",
       "      <td>0.292752</td>\n",
       "      <td>0.176818</td>\n",
       "      <td>0.027191</td>\n",
       "    </tr>\n",
       "    <tr>\n",
       "      <th>invoices</th>\n",
       "      <td>0.798900</td>\n",
       "      <td>1.000000</td>\n",
       "      <td>0.624470</td>\n",
       "      <td>0.966786</td>\n",
       "      <td>0.377029</td>\n",
       "      <td>0.249447</td>\n",
       "      <td>0.033921</td>\n",
       "    </tr>\n",
       "    <tr>\n",
       "      <th>total_spent</th>\n",
       "      <td>0.460331</td>\n",
       "      <td>0.624470</td>\n",
       "      <td>1.000000</td>\n",
       "      <td>0.548049</td>\n",
       "      <td>0.187716</td>\n",
       "      <td>0.122081</td>\n",
       "      <td>0.249806</td>\n",
       "    </tr>\n",
       "    <tr>\n",
       "      <th>frequency</th>\n",
       "      <td>0.801204</td>\n",
       "      <td>0.966786</td>\n",
       "      <td>0.548049</td>\n",
       "      <td>1.000000</td>\n",
       "      <td>0.423773</td>\n",
       "      <td>0.273822</td>\n",
       "      <td>0.023363</td>\n",
       "    </tr>\n",
       "    <tr>\n",
       "      <th>recency</th>\n",
       "      <td>0.292752</td>\n",
       "      <td>0.377029</td>\n",
       "      <td>0.187716</td>\n",
       "      <td>0.423773</td>\n",
       "      <td>1.000000</td>\n",
       "      <td>0.710618</td>\n",
       "      <td>0.009709</td>\n",
       "    </tr>\n",
       "    <tr>\n",
       "      <th>T</th>\n",
       "      <td>0.176818</td>\n",
       "      <td>0.249447</td>\n",
       "      <td>0.122081</td>\n",
       "      <td>0.273822</td>\n",
       "      <td>0.710618</td>\n",
       "      <td>1.000000</td>\n",
       "      <td>-0.007027</td>\n",
       "    </tr>\n",
       "    <tr>\n",
       "      <th>monetary_value</th>\n",
       "      <td>0.027191</td>\n",
       "      <td>0.033921</td>\n",
       "      <td>0.249806</td>\n",
       "      <td>0.023363</td>\n",
       "      <td>0.009709</td>\n",
       "      <td>-0.007027</td>\n",
       "      <td>1.000000</td>\n",
       "    </tr>\n",
       "  </tbody>\n",
       "</table>\n",
       "</div>"
      ],
      "text/plain": [
       "                   items  invoices  total_spent  frequency   recency  \\\n",
       "items           1.000000  0.798900     0.460331   0.801204  0.292752   \n",
       "invoices        0.798900  1.000000     0.624470   0.966786  0.377029   \n",
       "total_spent     0.460331  0.624470     1.000000   0.548049  0.187716   \n",
       "frequency       0.801204  0.966786     0.548049   1.000000  0.423773   \n",
       "recency         0.292752  0.377029     0.187716   0.423773  1.000000   \n",
       "T               0.176818  0.249447     0.122081   0.273822  0.710618   \n",
       "monetary_value  0.027191  0.033921     0.249806   0.023363  0.009709   \n",
       "\n",
       "                       T  monetary_value  \n",
       "items           0.176818        0.027191  \n",
       "invoices        0.249447        0.033921  \n",
       "total_spent     0.122081        0.249806  \n",
       "frequency       0.273822        0.023363  \n",
       "recency         0.710618        0.009709  \n",
       "T               1.000000       -0.007027  \n",
       "monetary_value -0.007027        1.000000  "
      ]
     },
     "execution_count": 28,
     "metadata": {},
     "output_type": "execute_result"
    }
   ],
   "source": [
    "df_customer.corr()"
   ]
  },
  {
   "cell_type": "code",
   "execution_count": 29,
   "metadata": {},
   "outputs": [
    {
     "data": {
      "text/plain": [
       "<matplotlib.axes._subplots.AxesSubplot at 0x7f84d3c6cd10>"
      ]
     },
     "execution_count": 29,
     "metadata": {},
     "output_type": "execute_result"
    },
    {
     "data": {
      "image/png": "[encoded data removed]",
      "text/plain": [
       "<Figure size 432x288 with 2 Axes>"
      ]
     },
     "metadata": {
      "needs_background": "light"
     },
     "output_type": "display_data"
    }
   ],
   "source": [
    "import seaborn as sns\n",
    "\n",
    "sns.heatmap(df_customer.drop([],axis=1).corr(),cmap=\"Blues\")"
   ]
  },
  {
   "cell_type": "code",
   "execution_count": 40,
   "metadata": {},
   "outputs": [
    {
     "data": {
      "text/plain": [
       "<matplotlib.axes._subplots.AxesSubplot at 0x7f84d3b61310>"
      ]
     },
     "execution_count": 40,
     "metadata": {},
     "output_type": "execute_result"
    },
    {
     "data": {
      "image/png": "[encoded data removed]",
      "text/plain": [
       "<Figure size 432x288 with 2 Axes>"
      ]
     },
     "metadata": {
      "needs_background": "light"
     },
     "output_type": "display_data"
    }
   ],
   "source": [
    "sns.heatmap(df_customer[['frequency','monetary_value','recency','total_spent']].corr(),cmap=\"Blues\")"
   ]
  },
  {
   "cell_type": "code",
   "execution_count": 44,
   "metadata": {},
   "outputs": [
    {
     "data": {
      "text/html": [
       "<div>\n",
       "<style scoped>\n",
       "    .dataframe tbody tr th:only-of-type {\n",
       "        vertical-align: middle;\n",
       "    }\n",
       "\n",
       "    .dataframe tbody tr th {\n",
       "        vertical-align: top;\n",
       "    }\n",
       "\n",
       "    .dataframe thead th {\n",
       "        text-align: right;\n",
       "    }\n",
       "</style>\n",
       "<table border=\"1\" class=\"dataframe\">\n",
       "  <thead>\n",
       "    <tr style=\"text-align: right;\">\n",
       "      <th></th>\n",
       "      <th>frequency</th>\n",
       "      <th>recency</th>\n",
       "      <th>monetary_value</th>\n",
       "      <th>total_spent</th>\n",
       "    </tr>\n",
       "    <tr>\n",
       "      <th>Customer_ID</th>\n",
       "      <th></th>\n",
       "      <th></th>\n",
       "      <th></th>\n",
       "      <th></th>\n",
       "    </tr>\n",
       "  </thead>\n",
       "  <tbody>\n",
       "    <tr>\n",
       "      <th>18102.0</th>\n",
       "      <td>66.0</td>\n",
       "      <td>738.0</td>\n",
       "      <td>9189.930455</td>\n",
       "      <td>608821.65</td>\n",
       "    </tr>\n",
       "    <tr>\n",
       "      <th>14646.0</th>\n",
       "      <td>90.0</td>\n",
       "      <td>736.0</td>\n",
       "      <td>5809.905333</td>\n",
       "      <td>528602.52</td>\n",
       "    </tr>\n",
       "    <tr>\n",
       "      <th>14156.0</th>\n",
       "      <td>119.0</td>\n",
       "      <td>729.0</td>\n",
       "      <td>2584.853445</td>\n",
       "      <td>308664.36</td>\n",
       "    </tr>\n",
       "    <tr>\n",
       "      <th>14911.0</th>\n",
       "      <td>253.0</td>\n",
       "      <td>737.0</td>\n",
       "      <td>1153.615257</td>\n",
       "      <td>292598.29</td>\n",
       "    </tr>\n",
       "    <tr>\n",
       "      <th>17450.0</th>\n",
       "      <td>30.0</td>\n",
       "      <td>430.0</td>\n",
       "      <td>6924.523000</td>\n",
       "      <td>246973.09</td>\n",
       "    </tr>\n",
       "  </tbody>\n",
       "</table>\n",
       "</div>"
      ],
      "text/plain": [
       "             frequency  recency  monetary_value  total_spent\n",
       "Customer_ID                                                 \n",
       "18102.0           66.0    738.0     9189.930455    608821.65\n",
       "14646.0           90.0    736.0     5809.905333    528602.52\n",
       "14156.0          119.0    729.0     2584.853445    308664.36\n",
       "14911.0          253.0    737.0     1153.615257    292598.29\n",
       "17450.0           30.0    430.0     6924.523000    246973.09"
      ]
     },
     "execution_count": 44,
     "metadata": {},
     "output_type": "execute_result"
    }
   ],
   "source": [
    "# Importing the dataset\n",
    "#df_customer_km = df_customer.drop(['Customer_ID'],axis=0)\n",
    "\n",
    "mat_customer_km = df_customer[['frequency','recency','monetary_value','total_spent']]\n",
    "mat_customer_km.head()"
   ]
  },
  {
   "cell_type": "code",
   "execution_count": 45,
   "metadata": {},
   "outputs": [
    {
     "name": "stdout",
     "output_type": "stream",
     "text": [
      "('For n_clusters =', 2, 'The average silhouette_score is :', 0.9838331572331146)\n",
      "('For n_clusters =', 3, 'The average silhouette_score is :', 0.97118522113008)\n",
      "('For n_clusters =', 4, 'The average silhouette_score is :', 0.9416915789380231)\n",
      "('For n_clusters =', 5, 'The average silhouette_score is :', 0.8291428695202634)\n",
      "('For n_clusters =', 6, 'The average silhouette_score is :', 0.7983862576573459)\n",
      "('For n_clusters =', 7, 'The average silhouette_score is :', 0.8003581575252952)\n",
      "('For n_clusters =', 8, 'The average silhouette_score is :', 0.7221811624928178)\n",
      "('For n_clusters =', 9, 'The average silhouette_score is :', 0.6585894534055113)\n",
      "('For n_clusters =', 10, 'The average silhouette_score is :', 0.6581226626249155)\n"
     ]
    },
    {
     "data": {
      "image/png": "[encoded data removed]",
      "text/plain": [
       "<Figure size 432x288 with 1 Axes>"
      ]
     },
     "metadata": {
      "needs_background": "light"
     },
     "output_type": "display_data"
    }
   ],
   "source": [
    "# Using the elbow method to find the optimal number of clusters\n",
    "from sklearn.cluster import KMeans\n",
    "from sklearn.metrics import  silhouette_score\n",
    "\n",
    "wcss = []\n",
    "mat_customer_km = mat_customer_km.as_matrix()\n",
    "\n",
    "import matplotlib.pyplot as plt\n",
    "\n",
    "for i in range(1, 11):\n",
    "    kmeans = KMeans(n_clusters = i, init = 'k-means++', random_state = 42)\n",
    "    kmeans.fit(mat_customer_km)\n",
    "    clusters = kmeans.predict(mat_customer_km)\n",
    "    if i>1:\n",
    "        silhouette_avg = silhouette_score(mat_customer_km, clusters)\n",
    "        print(\"For n_clusters =\", i, \"The average silhouette_score is :\", silhouette_avg)\n",
    "\n",
    "    wcss.append(kmeans.inertia_)\n",
    "    \n",
    "plt.plot(range(1, 11), wcss)\n",
    "plt.title('Elbow plot')\n",
    "plt.xlabel('Number of clusters')\n",
    "plt.ylabel('WCSS')\n",
    "plt.show()"
   ]
  },
  {
   "cell_type": "code",
   "execution_count": 50,
   "metadata": {},
   "outputs": [
    {
     "data": {
      "image/png": "[encoded data removed]",
      "text/plain": [
       "<Figure size 432x288 with 1 Axes>"
      ]
     },
     "metadata": {
      "needs_background": "light"
     },
     "output_type": "display_data"
    }
   ],
   "source": [
    "X=mat_customer_km\n",
    "# Fitting K-Means to the dataset\n",
    "how_many_clusters = 4\n",
    "kmeans = KMeans(n_clusters = how_many_clusters, init = 'k-means++', random_state = 42)\n",
    "y_kmeans = kmeans.fit_predict(X)\n",
    "\n",
    "\n",
    "# 0: frequency\n",
    "# 1: recency\n",
    "# 2: value\n",
    "# 3: total\n",
    "labels = ['frequency','recency','value','total']\n",
    "x_index=0\n",
    "y_index=3\n",
    "# Visualising the clusters\n",
    "plt.scatter(X[y_kmeans == 0, x_index], X[y_kmeans == 0, y_index], s = 20, c = 'red', label = 'Cluster 1')\n",
    "plt.scatter(X[y_kmeans == 1, x_index], X[y_kmeans == 1, y_index], s = 20, c = 'blue', label = 'Cluster 2')\n",
    "plt.scatter(X[y_kmeans == 2, x_index], X[y_kmeans == 2, y_index], s = 20, c = 'green', label = 'Cluster 3')\n",
    "plt.scatter(X[y_kmeans == 3, x_index], X[y_kmeans == 3, y_index], s = 20, c = 'cyan', label = 'Cluster 4')\n",
    "#plt.scatter(X[y_kmeans == 4, x_index], X[y_kmeans == 4, y_index], s = 20, c = 'magenta', label = 'Cluster 5')\n",
    "plt.scatter(kmeans.cluster_centers_[:, 0], kmeans.cluster_centers_[:, 2], s = 200, c = 'yellow', label = 'Centroids')\n",
    "plt.title('Clusters of customers')\n",
    "plt.xlabel(labels[x_index])\n",
    "plt.ylabel(labels[y_index])\n",
    "plt.legend()\n",
    "plt.show()"
   ]
  },
  {
   "cell_type": "code",
   "execution_count": 53,
   "metadata": {},
   "outputs": [
    {
     "data": {
      "text/plain": [
       "numpy.ndarray"
      ]
     },
     "execution_count": 53,
     "metadata": {},
     "output_type": "execute_result"
    }
   ],
   "source": [
    "type(y_kmeans)"
   ]
  },
  {
   "cell_type": "code",
   "execution_count": 34,
   "metadata": {},
   "outputs": [
    {
     "data": {
      "text/plain": [
       "array([ 66.,  90., 119., ...,   1.,   3.,   1.])"
      ]
     },
     "execution_count": 34,
     "metadata": {},
     "output_type": "execute_result"
    }
   ],
   "source": [
    "# freq\n",
    "X[:,0]"
   ]
  },
  {
   "cell_type": "code",
   "execution_count": 35,
   "metadata": {},
   "outputs": [
    {
     "data": {
      "text/plain": [
       "array([738., 736., 729., ..., 192., 567., 119.])"
      ]
     },
     "execution_count": 35,
     "metadata": {},
     "output_type": "execute_result"
    }
   ],
   "source": [
    "# recency\n",
    "X[:,1]"
   ]
  },
  {
   "cell_type": "code",
   "execution_count": 36,
   "metadata": {},
   "outputs": [
    {
     "data": {
      "text/plain": [
       "array([9189.93045455, 5809.90533333, 2584.85344538, ...,   15.44      ,\n",
       "          9.8       ,   10.9       ])"
      ]
     },
     "execution_count": 36,
     "metadata": {},
     "output_type": "execute_result"
    }
   ],
   "source": [
    "# value\n",
    "X[:,2]"
   ]
  },
  {
   "cell_type": "code",
   "execution_count": 37,
   "metadata": {},
   "outputs": [
    {
     "data": {
      "text/plain": [
       "array([  66.        ,  738.        , 9189.93045455])"
      ]
     },
     "execution_count": 37,
     "metadata": {},
     "output_type": "execute_result"
    }
   ],
   "source": [
    "X[0,:]"
   ]
  }
 ],
 "metadata": {
  "kernelspec": {
   "display_name": "Python 2",
   "language": "python",
   "name": "python2"
  },
  "language_info": {
   "codemirror_mode": {
    "name": "ipython",
    "version": 2
   },
   "file_extension": ".py",
   "mimetype": "text/x-python",
   "name": "python",
   "nbconvert_exporter": "python",
   "pygments_lexer": "ipython2",
   "version": "2.7.16"
  }
 },
 "nbformat": 4,
 "nbformat_minor": 2
}
