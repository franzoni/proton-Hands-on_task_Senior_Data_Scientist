{
 "cells": [
  {
   "cell_type": "code",
   "execution_count": null,
   "metadata": {
    "scrolled": true
   },
   "outputs": [],
   "source": [
    "import pandas as pd\n",
    "import os\n",
    "\n",
    "# GF TODO: check if excel present, otherwise download it\n",
    "# wget http://archive.ics.uci.edu/ml/machine-learning-databases/00502/online_retail_II.xlsx\n",
    "\n",
    "excel_with_path  = '/eos/user/f/franzoni/SWAN_projects/proton/online_retail_II.xlsx'\n",
    "pickle_with_path = '/eos/user/f/franzoni/SWAN_projects/proton/online_retail_II.pkl'\n",
    "csv_with_path = '/eos/user/f/franzoni/SWAN_projects/proton/online_retail_II.csv'\n",
    "\n",
    "df = None\n",
    "\n",
    "if os.path.isfile(pickle_with_path):\n",
    "    print('-> picke already exists, much faster\\n')\n",
    "    df = pd.read_pickle(pickle_with_path)\n",
    "else:\n",
    "    print('-> picke does not exist, go to excel, and create it\\n')\n",
    "    df1 = pd.read_excel (excel_with_path,'Year 2009-2010')\n",
    "    df2 = pd.read_excel (excel_with_path,'Year 2010-2011')\n",
    "    df = pd.concat([df1, df2])\n",
    "    df.to_pickle(pickle_with_path)\n",
    "\n",
    "df['Transaction'] = df.Quantity * df.Price\n",
    "df=df.rename(columns={\"Customer ID\": \"Customer_ID\"})\n",
    "\n",
    "# df.to_csv(csv_with_path, encoding = 'utf-8')\n",
    "\n",
    "# GF TODO: there are nan \n",
    "# GF TODO: there are fields which are 'empty char', e.g. in the customer_id"
   ]
  },
  {
   "cell_type": "code",
   "execution_count": null,
   "metadata": {},
   "outputs": [],
   "source": [
    "df.head(5)"
   ]
  },
  {
   "cell_type": "markdown",
   "metadata": {},
   "source": [
    "## todo\n",
    "- nan and empty -> cleanup\n",
    "- add colums for data and time, separately ?\n",
    "- create a second DF by user: RFM added to\n",
    "\n",
    "\n",
    "## What do I want to extract from this dataset?\n",
    "- https://en.wikipedia.org/wiki/Exploratory_data_analysis\n",
    "- how many customers\n",
    "\n",
    "- customer/transactions/revenue: in which country, tra\n",
    "- how much do customers spend => make a PLOT!\n",
    "- trends of spending: overall, by the largest customer, by the smaller customers\n",
    "- plot of how valuable a customer is\n",
    "\n",
    "- revenue as a function of date, as a function of the time in the day\n",
    "\n",
    "- how many different types of items\n",
    "- what kind of items are bought the most (by NUMBER of by REVENUE), are cancelled the most, \n",
    "- how much revenue per type of item bought\n",
    "\n",
    "- correlation between\n",
    "- cancellations: fraction of cancellation by nunber of transactions and by proportion of renenue\n",
    "-                correlation to CHURNING ? Correlation to country OR type of good purchased ?\n",
    "\n",
    "- cust.groupby('customer_unique_id').size().value_counts() => The majority of customers made only a single purchase. ALRAEDY DONE\n",
    "\n",
    "\n",
    "- Can I cathegorise the purchasable items? => If so, customers split across those cathegories\n",
    "- Persona; how many cheap items, few expensive ones?\n",
    "- https://cxl.com/blog/creating-customer-personas-using-data-driven-research/\n",
    "- now many items are bought per session, how much is spent per session\n",
    "\n",
    "==> TOWARDS CUSTOMER PERSONA DEFINITION\n",
    "- MANY TRANSACTIONS ARE RECORDED AT THE SAME TIME => as if they were a single shopping session, but billed in split goups of goods\n",
    "- the function summary_data_from_transaction_data treats transactions taking place on the same day as A SINGLE ONE!"
   ]
  },
  {
   "cell_type": "code",
   "execution_count": null,
   "metadata": {},
   "outputs": [],
   "source": [
    "print('There are %d unique customers'%len(df.Customer_ID.unique()))"
   ]
  },
  {
   "cell_type": "code",
   "execution_count": null,
   "metadata": {},
   "outputs": [],
   "source": [
    "print('Customers are from %d countries'%len(df.Country.unique()))"
   ]
  },
  {
   "cell_type": "code",
   "execution_count": null,
   "metadata": {},
   "outputs": [],
   "source": [
    "# GF can be removed\n",
    "# df.groupby('Country').Customer_ID.unique()"
   ]
  },
  {
   "cell_type": "code",
   "execution_count": null,
   "metadata": {},
   "outputs": [],
   "source": []
  },
  {
   "cell_type": "code",
   "execution_count": null,
   "metadata": {},
   "outputs": [],
   "source": [
    "Cust_vs_country = df.groupby('Country').Customer_ID.unique().agg([len])    \\\n",
    "                    .rename(columns={\"len\": \"num_customers\"})            \\\n",
    "                    .sort_values(by=['num_customers'],ascending=False)\n",
    "\n",
    "Revenue_vs_country = df.groupby('Country').Transaction.agg([sum])    \\\n",
    "                    .rename(columns={\"sum\": \"revenue\"})            \\\n",
    "                    .sort_values(by=['revenue'],ascending=False)\n",
    "\n",
    "# Do I want/need to remove cancellation transactinos \n",
    "# from the counting of ITEMS and and session ?\n",
    "Items_vs_country = df.groupby('Country').Invoice.agg([len])    \\\n",
    "                    .rename(columns={\"len\": \"num_items\"})            \\\n",
    "                    .sort_values(by=['num_items'],ascending=False)\n",
    "\n",
    "# session \n",
    "Invoices_vs_country = df.groupby('Country').Invoice.unique().agg([len])    \\\n",
    "                    .rename(columns={\"len\": \"num_invoices\"})            \\\n",
    "                    .sort_values(by=['num_invoices'],ascending=False)\n",
    "\n",
    "\n",
    "df_vs_country = Cust_vs_country              \\\n",
    "                .join(Revenue_vs_country )    \\\n",
    "                .join(Items_vs_country)   \\\n",
    "                .join(Invoices_vs_country)   \\\n",
    "\n",
    "df_vs_country"
   ]
  },
  {
   "cell_type": "code",
   "execution_count": null,
   "metadata": {},
   "outputs": [],
   "source": [
    "Cust_vs_country"
   ]
  },
  {
   "cell_type": "code",
   "execution_count": null,
   "metadata": {},
   "outputs": [],
   "source": [
    "# https://www.w3resource.com/pandas/dataframe/dataframe-plot-bar.php\n",
    "# good reference for plotting directly from pandas (less code!)\n",
    "df_vs_country.plot.pie(y='num_customers', figsize=(15, 15))"
   ]
  },
  {
   "cell_type": "code",
   "execution_count": null,
   "metadata": {},
   "outputs": [],
   "source": [
    "ax= df_vs_country  \\\n",
    "    .plot.bar(rot=90,figsize=(15,15),logy=True,fontsize=20,subplots=True)\n",
    "\n",
    "ax[0].set(ylabel = 'num. customers')\n",
    "ax[1].set(ylabel = 'revenue')\n",
    "ax[2].set(ylabel = 'num. items sold')\n",
    "ax[3].set(ylabel = 'num. invoices')\n",
    "\n",
    "for v in range(4):\n",
    "    ax[v].yaxis.get_label().set_fontsize(20)"
   ]
  },
  {
   "cell_type": "code",
   "execution_count": null,
   "metadata": {},
   "outputs": [],
   "source": [
    "# the largest customer by total net revenue (i.e. taking into account also cancellations, in negative)\n",
    "# is in the UK and has ID 18102.0 and has purchased for 600k pounds\n",
    "df.groupby('Customer_ID').Transaction.agg([sum,min,max,len])                                                  \\\n",
    "        .rename(columns={'sum': 'Total Customer Revenue',                                                     \\\n",
    "                         'min': 'Min Transaction','max': 'Max Transaction',                                   \\\n",
    "                            'len' : 'Number of Transaction'})                                                 \\\n",
    "              .sort_values(by=['Total Customer Revenue'],ascending=False).head(10)        "
   ]
  },
  {
   "cell_type": "code",
   "execution_count": null,
   "metadata": {},
   "outputs": [],
   "source": [
    "# the customer with the largest number of transactions is \n",
    "# is in the UK, has ID 17841.0 and has carried out 13.1k transactions\n",
    "df.groupby('Customer_ID').Transaction.agg([sum,min,max,len])                                                  \\\n",
    "        .rename(columns={'sum': 'Total Customer Revenue',                                                     \\\n",
    "                         'min': 'Min Transaction','max': 'Max Transaction',                                   \\\n",
    "                            'len' : 'Number of Transaction'})                                                 \\\n",
    "              .sort_values(by=['Number of Transaction'],ascending=False).head(10)    "
   ]
  },
  {
   "cell_type": "code",
   "execution_count": null,
   "metadata": {},
   "outputs": [],
   "source": [
    "# the customer with the largest number of transactions is \n",
    "# is in the UK, has ID 17841.0 and has carried out 12.9 transactions (excluding cancellation transactions)\n",
    "df.loc[df.Transaction>0]                                                                                      \\\n",
    "    .groupby('Customer_ID').Transaction.agg([sum,min,max,len])                                                \\\n",
    "        .rename(columns={'sum': 'Total Customer Revenue',                                                     \\\n",
    "                         'min': 'Min Transaction','max': 'Max Transaction',                                   \\\n",
    "                            'len' : 'Number of Transaction'})                                                 \\\n",
    "              .sort_values(by=['Number of Transaction'],ascending=False).head(10)    "
   ]
  },
  {
   "cell_type": "code",
   "execution_count": null,
   "metadata": {},
   "outputs": [],
   "source": [
    "# the UK generates the largest revenue (16M over the two years),\n",
    "# surprisingly EIRE is the second largest source of revenue, with 0.6M (despite having only 6 customers, they must be huge customers)\n",
    "df.groupby('Country').Transaction.sum().sort_values(ascending=False)"
   ]
  },
  {
   "cell_type": "code",
   "execution_count": null,
   "metadata": {},
   "outputs": [],
   "source": [
    "df.groupby('Country').Transaction.sum().sort_values(ascending=False)"
   ]
  },
  {
   "cell_type": "code",
   "execution_count": null,
   "metadata": {},
   "outputs": [],
   "source": [
    "df.groupby('Customer_ID').size().value_counts()"
   ]
  },
  {
   "cell_type": "code",
   "execution_count": null,
   "metadata": {},
   "outputs": [],
   "source": [
    "# pip install --user lifetimes\n",
    "from lifetimes.utils import *\n"
   ]
  },
  {
   "cell_type": "code",
   "execution_count": null,
   "metadata": {},
   "outputs": [],
   "source": [
    "import pandas as pd\n",
    "import numpy as np\n",
    "import datetime as dt\n",
    "import seaborn as sns\n",
    "import matplotlib.pyplot as plt\n",
    "from lifetimes.utils import *\n",
    "from lifetimes import BetaGeoFitter,GammaGammaFitter\n",
    "from lifetimes.plotting import plot_probability_alive_matrix, plot_frequency_recency_matrix, plot_period_transactions, plot_cumulative_transactions,plot_incremental_transactions\n",
    "from lifetimes.generate_data import beta_geometric_nbd_model\n",
    "from lifetimes.plotting import plot_calibration_purchases_vs_holdout_purchases, plot_period_transactions,plot_history_alive"
   ]
  },
  {
   "cell_type": "code",
   "execution_count": null,
   "metadata": {},
   "outputs": [],
   "source": [
    "print('pip install worked out fine')"
   ]
  },
  {
   "cell_type": "code",
   "execution_count": null,
   "metadata": {},
   "outputs": [],
   "source": []
  }
 ],
 "metadata": {
  "kernelspec": {
   "display_name": "Python 2",
   "language": "python",
   "name": "python2"
  },
  "language_info": {
   "codemirror_mode": {
    "name": "ipython",
    "version": 2
   },
   "file_extension": ".py",
   "mimetype": "text/x-python",
   "name": "python",
   "nbconvert_exporter": "python",
   "pygments_lexer": "ipython2",
   "version": "2.7.16"
  }
 },
 "nbformat": 4,
 "nbformat_minor": 2
}
